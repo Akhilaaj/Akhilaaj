{
  "nbformat": 4,
  "nbformat_minor": 0,
  "metadata": {
    "colab": {
      "provenance": [],
      "include_colab_link": true
    },
    "kernelspec": {
      "name": "python3",
      "display_name": "Python 3"
    },
    "language_info": {
      "name": "python"
    }
  },
  "cells": [
    {
      "cell_type": "markdown",
      "metadata": {
        "id": "view-in-github",
        "colab_type": "text"
      },
      "source": [
        "<a href=\"https://colab.research.google.com/github/Akhilaaj/Akhilaaj/blob/main/3rd_June_Fashion_MNIST_(Post_Modelling).ipynb\" target=\"_parent\"><img src=\"https://colab.research.google.com/assets/colab-badge.svg\" alt=\"Open In Colab\"/></a>"
      ]
    },
    {
      "cell_type": "code",
      "execution_count": null,
      "metadata": {
        "id": "R0DmqdhMsJ-4"
      },
      "outputs": [],
      "source": [
        "import numpy as np \n",
        "import pandas as pd\n",
        "import matplotlib.pyplot as plt\n",
        "import tensorflow as tf\n",
        "import seaborn as sns"
      ]
    },
    {
      "cell_type": "code",
      "source": [
        "# Fashion MNIST - https://github.com/zalandoresearch/fashion-mnist\n",
        "\"\"\"\n",
        "Label\tDescription\n",
        "0\tT-shirt/top\n",
        "1\tTrouser\n",
        "2\tPullover\n",
        "3\tDress\n",
        "4\tCoat\n",
        "5\tSandal\n",
        "6\tShirt\n",
        "7\tSneaker\n",
        "8\tBag\n",
        "9\tAnkle boot\n",
        "\"\"\""
      ],
      "metadata": {
        "id": "SG3lg3RVv0h0"
      },
      "execution_count": null,
      "outputs": []
    },
    {
      "cell_type": "code",
      "source": [
        "(x_train, y_train), (x_test, y_test) = tf.keras.datasets.fashion_mnist.load_data()"
      ],
      "metadata": {
        "colab": {
          "base_uri": "https://localhost:8080/"
        },
        "id": "53q122RtwsBQ",
        "outputId": "d420e3d9-722b-4541-a1a8-7944f57030fb"
      },
      "execution_count": null,
      "outputs": [
        {
          "output_type": "stream",
          "name": "stdout",
          "text": [
            "Downloading data from https://storage.googleapis.com/tensorflow/tf-keras-datasets/train-labels-idx1-ubyte.gz\n",
            "29515/29515 [==============================] - 0s 0us/step\n",
            "Downloading data from https://storage.googleapis.com/tensorflow/tf-keras-datasets/train-images-idx3-ubyte.gz\n",
            "26421880/26421880 [==============================] - 1s 0us/step\n",
            "Downloading data from https://storage.googleapis.com/tensorflow/tf-keras-datasets/t10k-labels-idx1-ubyte.gz\n",
            "5148/5148 [==============================] - 0s 0us/step\n",
            "Downloading data from https://storage.googleapis.com/tensorflow/tf-keras-datasets/t10k-images-idx3-ubyte.gz\n",
            "4422102/4422102 [==============================] - 1s 0us/step\n"
          ]
        }
      ]
    },
    {
      "cell_type": "code",
      "source": [
        "x_train.shape"
      ],
      "metadata": {
        "colab": {
          "base_uri": "https://localhost:8080/"
        },
        "id": "0NvpxWgjxwyz",
        "outputId": "898a5d36-d85b-48df-cb19-31de55c00483"
      },
      "execution_count": null,
      "outputs": [
        {
          "output_type": "execute_result",
          "data": {
            "text/plain": [
              "(60000, 28, 28)"
            ]
          },
          "metadata": {},
          "execution_count": 3
        }
      ]
    },
    {
      "cell_type": "code",
      "source": [
        "y_train.shape"
      ],
      "metadata": {
        "colab": {
          "base_uri": "https://localhost:8080/"
        },
        "id": "q3JE738gx2TO",
        "outputId": "05df8fc8-0748-4e80-dd13-73626ca7a904"
      },
      "execution_count": null,
      "outputs": [
        {
          "output_type": "execute_result",
          "data": {
            "text/plain": [
              "(60000,)"
            ]
          },
          "metadata": {},
          "execution_count": 4
        }
      ]
    },
    {
      "cell_type": "code",
      "source": [
        "y_train"
      ],
      "metadata": {
        "colab": {
          "base_uri": "https://localhost:8080/"
        },
        "id": "H42epUv6x4gN",
        "outputId": "ce2fbdb2-c75f-44e0-e0a2-366188c0ddb6"
      },
      "execution_count": null,
      "outputs": [
        {
          "output_type": "execute_result",
          "data": {
            "text/plain": [
              "array([9, 0, 0, ..., 3, 0, 5], dtype=uint8)"
            ]
          },
          "metadata": {},
          "execution_count": 5
        }
      ]
    },
    {
      "cell_type": "code",
      "source": [
        "x_test.shape, y_test.shape"
      ],
      "metadata": {
        "colab": {
          "base_uri": "https://localhost:8080/"
        },
        "id": "voy-8d7Jx6ye",
        "outputId": "fcd4b5c5-0383-4c5b-fa8f-2301b0e93e07"
      },
      "execution_count": null,
      "outputs": [
        {
          "output_type": "execute_result",
          "data": {
            "text/plain": [
              "((10000, 28, 28), (10000,))"
            ]
          },
          "metadata": {},
          "execution_count": 6
        }
      ]
    },
    {
      "cell_type": "code",
      "source": [
        "label_encoder = {0:\"T-shirt/top\",\n",
        "                 1:\t\"Trouser\",\n",
        "                 2:\t\"Pullover\",\n",
        "                 3:\t\"Dress\",\n",
        "                 4:\t\"Coat\",\n",
        "                 5:\t\"Sandal\",\n",
        "                 6:\t\"Shirt\",\n",
        "                 7:\t\"Sneaker\",\n",
        "                 8:\t\"Bag\",\n",
        "                 9:\t\"Ankle boot\"\n",
        "                }"
      ],
      "metadata": {
        "id": "_Epc7pbXymWI"
      },
      "execution_count": null,
      "outputs": []
    },
    {
      "cell_type": "code",
      "source": [
        "plt.figure(figsize=(10, 8))\n",
        "for i in range(1, 6):\n",
        "  plt.subplot(1,5,i)\n",
        "  plt.imshow(x_train[i], cmap='gray')\n",
        "  plt.title(label_encoder[y_train[i]])"
      ],
      "metadata": {
        "colab": {
          "base_uri": "https://localhost:8080/",
          "height": 216
        },
        "id": "VSoL1sXByBIb",
        "outputId": "874dd500-3171-4757-bc49-523329044dfd"
      },
      "execution_count": null,
      "outputs": [
        {
          "output_type": "display_data",
          "data": {
            "text/plain": [
              "<Figure size 1000x800 with 5 Axes>"
            ],
            "image/png": "[encoded data removed]"
          },
          "metadata": {}
        }
      ]
    },
    {
      "cell_type": "code",
      "source": [
        "# Question - Plot 6 images for each category (and images should be random everytime)\n",
        "#          - Perform EDA "
      ],
      "metadata": {
        "id": "KPuj5yhXyJLC"
      },
      "execution_count": null,
      "outputs": []
    },
    {
      "cell_type": "code",
      "source": [
        "# Pre Processing \n",
        "# Input \n",
        "x_train = x_train / 255.0\n",
        "\n",
        "# Output \n",
        "y_train = pd.get_dummies(y_train)"
      ],
      "metadata": {
        "id": "aJlc3rRA0JED"
      },
      "execution_count": null,
      "outputs": []
    },
    {
      "cell_type": "code",
      "source": [
        "x_train.shape, y_train.shape"
      ],
      "metadata": {
        "colab": {
          "base_uri": "https://localhost:8080/"
        },
        "id": "mOumvAV30rJx",
        "outputId": "18a1d800-10a4-4ba9-d405-aa8902fbe3ec"
      },
      "execution_count": null,
      "outputs": [
        {
          "output_type": "execute_result",
          "data": {
            "text/plain": [
              "((60000, 28, 28), (60000, 10))"
            ]
          },
          "metadata": {},
          "execution_count": 21
        }
      ]
    },
    {
      "cell_type": "code",
      "source": [
        "# Model \n",
        "model = tf.keras.models.Sequential()\n",
        "# First Layer (Input)\n",
        "model.add(tf.keras.layers.Input((28, 28), name=\"InputLayer\"))\n",
        "# Flatten \n",
        "model.add(tf.keras.layers.Flatten(name=\"Flatten\"))\n",
        "# Hidden Layer \n",
        "model.add(tf.keras.layers.Dense(128, activation=tf.keras.activations.relu, name=\"HiddenLayer\"))\n",
        "# 2nd Hidden Layer\n",
        "model.add(tf.keras.layers.Dense(16, activation=tf.keras.activations.relu, name=\"HiddenLayer2\"))\n",
        "# Otutput Layer\n",
        "model.add(tf.keras.layers.Dense(10, activation=tf.keras.activations.softmax, name=\"Output\"))\n",
        "model.summary()"
      ],
      "metadata": {
        "colab": {
          "base_uri": "https://localhost:8080/"
        },
        "id": "Hx8-m3-Z0ti_",
        "outputId": "4bdd6170-defc-48a4-e1db-7fb218de08ce"
      },
      "execution_count": null,
      "outputs": [
        {
          "output_type": "stream",
          "name": "stdout",
          "text": [
            "Model: \"sequential\"\n",
            "_________________________________________________________________\n",
            " Layer (type)                Output Shape              Param #   \n",
            "=================================================================\n",
            " Flatten (Flatten)           (None, 784)               0         \n",
            "                                                                 \n",
            " HiddenLayer (Dense)         (None, 128)               100480    \n",
            "                                                                 \n",
            " HiddenLayer2 (Dense)        (None, 16)                2064      \n",
            "                                                                 \n",
            " Output (Dense)              (None, 10)                170       \n",
            "                                                                 \n",
            "=================================================================\n",
            "Total params: 102,714\n",
            "Trainable params: 102,714\n",
            "Non-trainable params: 0\n",
            "_________________________________________________________________\n"
          ]
        }
      ]
    },
    {
      "cell_type": "code",
      "source": [
        "print(784*128 + 128)\n",
        "print(128*16 + 16)\n",
        "print(16*10 + 10)"
      ],
      "metadata": {
        "colab": {
          "base_uri": "https://localhost:8080/"
        },
        "id": "yMBNztJn32sg",
        "outputId": "a4c7e8db-2153-4092-ece0-830cce68a19c"
      },
      "execution_count": null,
      "outputs": [
        {
          "output_type": "stream",
          "name": "stdout",
          "text": [
            "100480\n",
            "2064\n",
            "170\n"
          ]
        }
      ]
    },
    {
      "cell_type": "code",
      "source": [
        "model.compile(optimizer=tf.keras.optimizers.SGD(), \n",
        "              loss=tf.keras.losses.categorical_crossentropy, \n",
        "              metrics = [\"acc\"])"
      ],
      "metadata": {
        "id": "23tZ4a974Dww"
      },
      "execution_count": null,
      "outputs": []
    },
    {
      "cell_type": "code",
      "source": [
        "model.fit(x_train, y_train, epochs=10, batch_size=64, validation_split=0.1)"
      ],
      "metadata": {
        "colab": {
          "base_uri": "https://localhost:8080/"
        },
        "id": "xarIqsXA6IFo",
        "outputId": "f6b06187-45f4-4596-e0e7-27c4d4a0cd17"
      },
      "execution_count": null,
      "outputs": [
        {
          "output_type": "stream",
          "name": "stdout",
          "text": [
            "Epoch 1/10\n",
            "844/844 [==============================] - 4s 4ms/step - loss: 1.0043 - acc: 0.6600 - val_loss: 0.6811 - val_acc: 0.7703\n",
            "Epoch 2/10\n",
            "844/844 [==============================] - 4s 5ms/step - loss: 0.6117 - acc: 0.7922 - val_loss: 0.5529 - val_acc: 0.8117\n",
            "Epoch 3/10\n",
            "844/844 [==============================] - 3s 4ms/step - loss: 0.5309 - acc: 0.8170 - val_loss: 0.5076 - val_acc: 0.8282\n",
            "Epoch 4/10\n",
            "844/844 [==============================] - 3s 4ms/step - loss: 0.4935 - acc: 0.8281 - val_loss: 0.4836 - val_acc: 0.8287\n",
            "Epoch 5/10\n",
            "844/844 [==============================] - 3s 4ms/step - loss: 0.4704 - acc: 0.8372 - val_loss: 0.4649 - val_acc: 0.8385\n",
            "Epoch 6/10\n",
            "844/844 [==============================] - 4s 5ms/step - loss: 0.4525 - acc: 0.8422 - val_loss: 0.4450 - val_acc: 0.8433\n",
            "Epoch 7/10\n",
            "844/844 [==============================] - 3s 4ms/step - loss: 0.4382 - acc: 0.8477 - val_loss: 0.4451 - val_acc: 0.8438\n",
            "Epoch 8/10\n",
            "844/844 [==============================] - 3s 4ms/step - loss: 0.4277 - acc: 0.8508 - val_loss: 0.4310 - val_acc: 0.8480\n",
            "Epoch 9/10\n",
            "844/844 [==============================] - 3s 4ms/step - loss: 0.4158 - acc: 0.8547 - val_loss: 0.4174 - val_acc: 0.8555\n",
            "Epoch 10/10\n",
            "844/844 [==============================] - 4s 5ms/step - loss: 0.4065 - acc: 0.8578 - val_loss: 0.4228 - val_acc: 0.8545\n"
          ]
        },
        {
          "output_type": "execute_result",
          "data": {
            "text/plain": [
              "<keras.callbacks.History at 0x7fac1823afb0>"
            ]
          },
          "metadata": {},
          "execution_count": 27
        }
      ]
    },
    {
      "cell_type": "code",
      "source": [
        "# Saving the model\n",
        "model.save(\"fashion_mnist_model\")"
      ],
      "metadata": {
        "colab": {
          "base_uri": "https://localhost:8080/"
        },
        "id": "j23g2KPw6n3l",
        "outputId": "186c2014-6cf7-4466-d13b-f98723300848"
      },
      "execution_count": null,
      "outputs": [
        {
          "output_type": "stream",
          "name": "stderr",
          "text": [
            "WARNING:absl:Function `_wrapped_model` contains input name(s) InputLayer with unsupported characters which will be renamed to inputlayer in the SavedModel.\n",
            "WARNING:absl:Found untraced functions such as _update_step_xla while saving (showing 1 of 1). These functions will not be directly callable after loading.\n"
          ]
        }
      ]
    },
    {
      "cell_type": "code",
      "source": [
        "model.get_weights()"
      ],
      "metadata": {
        "id": "KRPkUlCh_6Sg"
      },
      "execution_count": null,
      "outputs": []
    },
    {
      "cell_type": "code",
      "source": [
        "model.to_json()"
      ],
      "metadata": {
        "colab": {
          "base_uri": "https://localhost:8080/",
          "height": 125
        },
        "id": "49eozJBCAM-f",
        "outputId": "55b9bd46-c017-4f01-98f6-330531236c69"
      },
      "execution_count": null,
      "outputs": [
        {
          "output_type": "execute_result",
          "data": {
            "text/plain": [
              "'{\"class_name\": \"Sequential\", \"config\": {\"name\": \"sequential\", \"layers\": [{\"class_name\": \"InputLayer\", \"config\": {\"batch_input_shape\": [null, 28, 28], \"dtype\": \"float32\", \"sparse\": false, \"ragged\": false, \"name\": \"InputLayer\"}}, {\"class_name\": \"Flatten\", \"config\": {\"name\": \"Flatten\", \"trainable\": true, \"dtype\": \"float32\", \"data_format\": \"channels_last\"}}, {\"class_name\": \"Dense\", \"config\": {\"name\": \"HiddenLayer\", \"trainable\": true, \"dtype\": \"float32\", \"units\": 128, \"activation\": \"relu\", \"use_bias\": true, \"kernel_initializer\": {\"class_name\": \"GlorotUniform\", \"config\": {\"seed\": null}}, \"bias_initializer\": {\"class_name\": \"Zeros\", \"config\": {}}, \"kernel_regularizer\": null, \"bias_regularizer\": null, \"activity_regularizer\": null, \"kernel_constraint\": null, \"bias_constraint\": null}}, {\"class_name\": \"Dense\", \"config\": {\"name\": \"HiddenLayer2\", \"trainable\": true, \"dtype\": \"float32\", \"units\": 16, \"activation\": \"relu\", \"use_bias\": true, \"kernel_initializer\": {\"class_name\": \"GlorotUniform\", \"config\": {\"seed\": null}}, \"bias_initializer\": {\"class_name\": \"Zeros\", \"config\": {}}, \"kernel_regularizer\": null, \"bias_regularizer\": null, \"activity_regularizer\": null, \"kernel_constraint\": null, \"bias_constraint\": null}}, {\"class_name\": \"Dense\", \"config\": {\"name\": \"Output\", \"trainable\": true, \"dtype\": \"float32\", \"units\": 10, \"activation\": \"softmax\", \"use_bias\": true, \"kernel_initializer\": {\"class_name\": \"GlorotUniform\", \"config\": {\"seed\": null}}, \"bias_initializer\": {\"class_name\": \"Zeros\", \"config\": {}}, \"kernel_regularizer\": null, \"bias_regularizer\": null, \"activity_regularizer\": null, \"kernel_constraint\": null, \"bias_constraint\": null}}]}, \"keras_version\": \"2.12.0\", \"backend\": \"tensorflow\"}'"
            ],
            "application/vnd.google.colaboratory.intrinsic+json": {
              "type": "string"
            }
          },
          "metadata": {},
          "execution_count": 30
        }
      ]
    },
    {
      "cell_type": "code",
      "source": [
        "# Predictions \n",
        "model.predict()"
      ],
      "metadata": {
        "id": "nsvoFs8QASgJ"
      },
      "execution_count": null,
      "outputs": []
    },
    {
      "cell_type": "code",
      "source": [
        "model.input_shape"
      ],
      "metadata": {
        "colab": {
          "base_uri": "https://localhost:8080/"
        },
        "id": "MfU1YRiTA4HE",
        "outputId": "17ca506c-492d-4712-bd55-5af47afdf76a"
      },
      "execution_count": null,
      "outputs": [
        {
          "output_type": "execute_result",
          "data": {
            "text/plain": [
              "(None, 28, 28)"
            ]
          },
          "metadata": {},
          "execution_count": 31
        }
      ]
    },
    {
      "cell_type": "code",
      "source": [
        "test_image = x_test[0]\n",
        "plt.imshow(test_image, cmap=\"gray\")\n",
        "plt.title(label_encoder[y_test[0]])"
      ],
      "metadata": {
        "colab": {
          "base_uri": "https://localhost:8080/",
          "height": 470
        },
        "id": "8OUHN5ruA6ey",
        "outputId": "6bb3b530-bcc2-4d5b-caa5-ebcc076173b0"
      },
      "execution_count": null,
      "outputs": [
        {
          "output_type": "execute_result",
          "data": {
            "text/plain": [
              "Text(0.5, 1.0, 'Ankle boot')"
            ]
          },
          "metadata": {},
          "execution_count": 33
        },
        {
          "output_type": "display_data",
          "data": {
            "text/plain": [
              "<Figure size 640x480 with 1 Axes>"
            ],
            "image/png": "[encoded data removed]"
          },
          "metadata": {}
        }
      ]
    },
    {
      "cell_type": "code",
      "source": [
        "# Read image \n",
        "test_image = x_test[0]\n",
        "# Normalize the image \n",
        "test_image = test_image / 255.0 \n",
        "# Need to introduce a new dimention \n",
        "print(f\"Before np.expand, {test_image.shape}\")\n",
        "test_image = np.expand_dims(test_image, axis=0)\n",
        "print(f\"After np.expand, {test_image.shape}\")"
      ],
      "metadata": {
        "colab": {
          "base_uri": "https://localhost:8080/"
        },
        "id": "xDQ7mbt6BVCB",
        "outputId": "16cefd57-eaee-41e0-c91e-8fe2fd0328a2"
      },
      "execution_count": null,
      "outputs": [
        {
          "output_type": "stream",
          "name": "stdout",
          "text": [
            "Before np.expand, (28, 28)\n",
            "After np.expand, (1, 28, 28)\n"
          ]
        }
      ]
    },
    {
      "cell_type": "code",
      "source": [
        "result = model.predict(test_image)\n",
        "result"
      ],
      "metadata": {
        "colab": {
          "base_uri": "https://localhost:8080/"
        },
        "id": "vp-08Du_Br_z",
        "outputId": "bb0f120b-6e2d-4a0b-b9dc-cf1902d262cf"
      },
      "execution_count": null,
      "outputs": [
        {
          "output_type": "stream",
          "name": "stdout",
          "text": [
            "1/1 [==============================] - 0s 54ms/step\n"
          ]
        },
        {
          "output_type": "execute_result",
          "data": {
            "text/plain": [
              "array([[1.0569644e-05, 3.5246273e-06, 2.8244144e-06, 7.5460575e-06,\n",
              "        2.2538143e-05, 8.0181032e-02, 3.6821432e-06, 3.1793794e-01,\n",
              "        2.7336357e-03, 5.9909672e-01]], dtype=float32)"
            ]
          },
          "metadata": {},
          "execution_count": 38
        }
      ]
    },
    {
      "cell_type": "code",
      "source": [
        "result.sum()"
      ],
      "metadata": {
        "colab": {
          "base_uri": "https://localhost:8080/"
        },
        "id": "0vhOtBtPDTGd",
        "outputId": "5a5a640f-97d7-47a4-e116-4f852c73bacc"
      },
      "execution_count": null,
      "outputs": [
        {
          "output_type": "execute_result",
          "data": {
            "text/plain": [
              "1.0"
            ]
          },
          "metadata": {},
          "execution_count": 43
        }
      ]
    },
    {
      "cell_type": "code",
      "source": [
        "print(f\"Prob: {np.max(result)}\")\n",
        "print(f\"Index: {np.argmax(result)}\")"
      ],
      "metadata": {
        "colab": {
          "base_uri": "https://localhost:8080/"
        },
        "id": "8TEAwRD6Cjmy",
        "outputId": "bde90a1c-2186-4809-c674-63d899a08582"
      },
      "execution_count": null,
      "outputs": [
        {
          "output_type": "stream",
          "name": "stdout",
          "text": [
            "Prob: 0.5990967154502869\n",
            "Index: 9\n"
          ]
        }
      ]
    },
    {
      "cell_type": "code",
      "source": [
        "label_encoder[9]"
      ],
      "metadata": {
        "colab": {
          "base_uri": "https://localhost:8080/",
          "height": 35
        },
        "id": "Gwead-2gC6ck",
        "outputId": "0a549f03-f950-4047-85de-34d8e4963897"
      },
      "execution_count": null,
      "outputs": [
        {
          "output_type": "execute_result",
          "data": {
            "text/plain": [
              "'Ankle boot'"
            ],
            "application/vnd.google.colaboratory.intrinsic+json": {
              "type": "string"
            }
          },
          "metadata": {},
          "execution_count": 41
        }
      ]
    },
    {
      "cell_type": "code",
      "source": [
        "def predict(image):\n",
        "  plt.imshow(image, cmap=\"gray\")\n",
        "  image = image/255.0\n",
        "  image = np.expand_dims(image, axis=0)\n",
        "  result = model.predict(image)\n",
        "  prob = np.max(result)\n",
        "  result = np.argmax(result)\n",
        "  plt.title(label_encoder[result])\n",
        "  return label_encoder[result], prob"
      ],
      "metadata": {
        "id": "uUyk1B8zDOTX"
      },
      "execution_count": null,
      "outputs": []
    },
    {
      "cell_type": "code",
      "source": [
        "predict(x_test[4000])"
      ],
      "metadata": {
        "colab": {
          "base_uri": "https://localhost:8080/",
          "height": 488
        },
        "id": "YtKkB2YCDqsz",
        "outputId": "ebd72d5d-f9c9-4795-91ff-8a3ff269d80b"
      },
      "execution_count": null,
      "outputs": [
        {
          "output_type": "stream",
          "name": "stdout",
          "text": [
            "1/1 [==============================] - 0s 23ms/step\n"
          ]
        },
        {
          "output_type": "execute_result",
          "data": {
            "text/plain": [
              "('T-shirt/top', 0.7388839)"
            ]
          },
          "metadata": {},
          "execution_count": 109
        },
        {
          "output_type": "display_data",
          "data": {
            "text/plain": [
              "<Figure size 640x480 with 1 Axes>"
            ],
            "image/png": "[encoded data removed]"
          },
          "metadata": {}
        }
      ]
    },
    {
      "cell_type": "code",
      "source": [
        "test_5_images = x_test[0:5]"
      ],
      "metadata": {
        "id": "lT6wFnE7DsHo"
      },
      "execution_count": null,
      "outputs": []
    },
    {
      "cell_type": "code",
      "source": [
        "for index, i in enumerate(test_5_images):\n",
        "  plt.subplot(1,5,index+1)\n",
        "  plt.imshow(i, cmap=\"gray\")"
      ],
      "metadata": {
        "colab": {
          "base_uri": "https://localhost:8080/",
          "height": 150
        },
        "id": "MqcWN91fEfla",
        "outputId": "bf02e76d-3fd8-4e35-c341-3bfd110b99c5"
      },
      "execution_count": null,
      "outputs": [
        {
          "output_type": "display_data",
          "data": {
            "text/plain": [
              "<Figure size 640x480 with 5 Axes>"
            ],
            "image/png": "[encoded data removed]"
          },
          "metadata": {}
        }
      ]
    },
    {
      "cell_type": "code",
      "source": [
        "test_5_images = x_test[0:5]\n",
        "test_5_images = test_5_images/255.0\n",
        "print(test_5_images.shape)"
      ],
      "metadata": {
        "colab": {
          "base_uri": "https://localhost:8080/"
        },
        "id": "TGUU_YPZEooe",
        "outputId": "bfcc50aa-b58d-41d6-c6e9-30ca557649ed"
      },
      "execution_count": null,
      "outputs": [
        {
          "output_type": "stream",
          "name": "stdout",
          "text": [
            "(5, 28, 28)\n"
          ]
        }
      ]
    },
    {
      "cell_type": "code",
      "source": [
        "result = model.predict(test_5_images)\n",
        "result"
      ],
      "metadata": {
        "colab": {
          "base_uri": "https://localhost:8080/"
        },
        "id": "pckoU6YaFHP0",
        "outputId": "d4f9c193-9a43-492a-de33-220d66b504ab"
      },
      "execution_count": null,
      "outputs": [
        {
          "output_type": "stream",
          "name": "stdout",
          "text": [
            "1/1 [==============================] - 0s 26ms/step\n"
          ]
        },
        {
          "output_type": "execute_result",
          "data": {
            "text/plain": [
              "array([[1.0569652e-05, 3.5246271e-06, 2.8244142e-06, 7.5460639e-06,\n",
              "        2.2538163e-05, 8.0181099e-02, 3.6821500e-06, 3.1793791e-01,\n",
              "        2.7336383e-03, 5.9909666e-01],\n",
              "       [4.0525996e-05, 2.6515456e-06, 9.2143327e-01, 6.5277268e-06,\n",
              "        1.3156332e-02, 1.3151895e-07, 6.5325290e-02, 8.2765331e-12,\n",
              "        3.5223027e-05, 2.5181520e-11],\n",
              "       [1.1837835e-05, 9.9954599e-01, 1.1692592e-05, 2.4098718e-04,\n",
              "        1.8845224e-04, 5.8290925e-07, 1.7598147e-07, 8.7263197e-11,\n",
              "        1.2135943e-07, 1.3770672e-07],\n",
              "       [3.9267661e-06, 9.9919194e-01, 1.5433154e-05, 6.5115426e-04,\n",
              "        1.3312264e-04, 2.2176032e-06, 1.2983519e-07, 2.3905842e-09,\n",
              "        2.9703418e-07, 1.7300712e-06],\n",
              "       [1.0878193e-01, 1.0858267e-03, 1.2635528e-01, 1.9280499e-02,\n",
              "        3.1370439e-02, 3.0630128e-04, 7.0141619e-01, 1.5189568e-07,\n",
              "        1.1394863e-02, 8.4881513e-06]], dtype=float32)"
            ]
          },
          "metadata": {},
          "execution_count": 74
        }
      ]
    },
    {
      "cell_type": "code",
      "source": [
        "np.argmax(result, axis=1)"
      ],
      "metadata": {
        "colab": {
          "base_uri": "https://localhost:8080/"
        },
        "id": "EkGPmzSFFNDD",
        "outputId": "4b530a9b-7f56-44c2-b801-0f737640eda3"
      },
      "execution_count": null,
      "outputs": [
        {
          "output_type": "execute_result",
          "data": {
            "text/plain": [
              "array([9, 2, 1, 1, 6])"
            ]
          },
          "metadata": {},
          "execution_count": 75
        }
      ]
    },
    {
      "cell_type": "code",
      "source": [
        "y_test[0:5]"
      ],
      "metadata": {
        "colab": {
          "base_uri": "https://localhost:8080/"
        },
        "id": "5qk6-N-JF9td",
        "outputId": "69eb8167-2c56-4127-b0b1-1554e6647b2d"
      },
      "execution_count": null,
      "outputs": [
        {
          "output_type": "execute_result",
          "data": {
            "text/plain": [
              "array([9, 2, 1, 1, 6], dtype=uint8)"
            ]
          },
          "metadata": {},
          "execution_count": 76
        }
      ]
    },
    {
      "cell_type": "code",
      "source": [
        "label_encoder[5]"
      ],
      "metadata": {
        "colab": {
          "base_uri": "https://localhost:8080/",
          "height": 35
        },
        "id": "ebKMX5abFS4v",
        "outputId": "87070816-b32e-4392-a082-42dd77aafb79"
      },
      "execution_count": null,
      "outputs": [
        {
          "output_type": "execute_result",
          "data": {
            "text/plain": [
              "'Sandal'"
            ],
            "application/vnd.google.colaboratory.intrinsic+json": {
              "type": "string"
            }
          },
          "metadata": {},
          "execution_count": 70
        }
      ]
    },
    {
      "cell_type": "code",
      "source": [
        "x_test_normalized = x_test/255.0"
      ],
      "metadata": {
        "id": "hVaLwiX5FpWt"
      },
      "execution_count": null,
      "outputs": []
    },
    {
      "cell_type": "code",
      "source": [
        "y_pred = np.argmax(model.predict(x_test_normalized), axis=1)"
      ],
      "metadata": {
        "colab": {
          "base_uri": "https://localhost:8080/"
        },
        "id": "yfm8cjZIGRtV",
        "outputId": "8600e8fb-5ebb-4154-810d-7133253e21ab"
      },
      "execution_count": null,
      "outputs": [
        {
          "output_type": "stream",
          "name": "stdout",
          "text": [
            "313/313 [==============================] - 1s 3ms/step\n"
          ]
        }
      ]
    },
    {
      "cell_type": "code",
      "source": [
        "y_pred"
      ],
      "metadata": {
        "colab": {
          "base_uri": "https://localhost:8080/"
        },
        "id": "Vsmufnn9GapS",
        "outputId": "93211139-8c4c-42df-b51b-0b5465b60d69"
      },
      "execution_count": null,
      "outputs": [
        {
          "output_type": "execute_result",
          "data": {
            "text/plain": [
              "array([9, 2, 1, ..., 8, 1, 5])"
            ]
          },
          "metadata": {},
          "execution_count": 79
        }
      ]
    },
    {
      "cell_type": "code",
      "source": [
        "y_test"
      ],
      "metadata": {
        "colab": {
          "base_uri": "https://localhost:8080/"
        },
        "id": "91HQ_xSiGc08",
        "outputId": "f74813d6-ee54-4b6b-9a4a-e7a888c8cf48"
      },
      "execution_count": null,
      "outputs": [
        {
          "output_type": "execute_result",
          "data": {
            "text/plain": [
              "array([9, 2, 1, ..., 8, 1, 5], dtype=uint8)"
            ]
          },
          "metadata": {},
          "execution_count": 80
        }
      ]
    },
    {
      "cell_type": "code",
      "source": [
        "(y_pred == y_test).sum()"
      ],
      "metadata": {
        "colab": {
          "base_uri": "https://localhost:8080/"
        },
        "id": "FBT9FDhBGeNd",
        "outputId": "eb08ba0d-00ca-44d2-a285-588d90033896"
      },
      "execution_count": null,
      "outputs": [
        {
          "output_type": "execute_result",
          "data": {
            "text/plain": [
              "8421"
            ]
          },
          "metadata": {},
          "execution_count": 82
        }
      ]
    },
    {
      "cell_type": "code",
      "source": [
        "# Which images failed the prediction? \n",
        "wrong_index = np.where(y_pred != y_test)[0] # index of images, where prediction is not as actual (y_test)\n",
        "wrong_index"
      ],
      "metadata": {
        "colab": {
          "base_uri": "https://localhost:8080/"
        },
        "id": "SxMY0ERVGhL6",
        "outputId": "d27e4fc2-0efe-4c8a-95e3-aa7726511245"
      },
      "execution_count": null,
      "outputs": [
        {
          "output_type": "execute_result",
          "data": {
            "text/plain": [
              "array([  12,   20,   21, ..., 9979, 9985, 9989])"
            ]
          },
          "metadata": {},
          "execution_count": 131
        }
      ]
    },
    {
      "cell_type": "code",
      "source": [
        "def plot_wrong_images(index):\n",
        "  index = index\n",
        "  print(f\"Actual Label: {label_encoder[y_test[index]]}\")\n",
        "  print(f\"Predicted Label: {label_encoder[y_pred[index]]}\")\n",
        "  plt.imshow(x_test[index], cmap='gray')\n",
        "  plt.show()\n",
        "plot_wrong_images(21)"
      ],
      "metadata": {
        "colab": {
          "base_uri": "https://localhost:8080/",
          "height": 466
        },
        "id": "8p8VCYEkHKfI",
        "outputId": "2ea2e22c-80f5-4c3c-8010-6e1d00201c16"
      },
      "execution_count": null,
      "outputs": [
        {
          "output_type": "stream",
          "name": "stdout",
          "text": [
            "Actual Label: Sandal\n",
            "Predicted Label: Sneaker\n"
          ]
        },
        {
          "output_type": "display_data",
          "data": {
            "text/plain": [
              "<Figure size 640x480 with 1 Axes>"
            ],
            "image/png": "[encoded data removed]"
          },
          "metadata": {}
        }
      ]
    },
    {
      "cell_type": "code",
      "source": [
        "import sklearn"
      ],
      "metadata": {
        "id": "HtDCYMJFHboj"
      },
      "execution_count": null,
      "outputs": []
    },
    {
      "cell_type": "code",
      "source": [
        "from sklearn.metrics import confusion_matrix, ConfusionMatrixDisplay"
      ],
      "metadata": {
        "id": "ouRqPVxpHuMl"
      },
      "execution_count": null,
      "outputs": []
    },
    {
      "cell_type": "code",
      "source": [
        "label_encoder"
      ],
      "metadata": {
        "colab": {
          "base_uri": "https://localhost:8080/"
        },
        "id": "rX4SL8e2IA-o",
        "outputId": "ba481a5d-822d-4b0e-c347-5e59181bf47a"
      },
      "execution_count": null,
      "outputs": [
        {
          "output_type": "execute_result",
          "data": {
            "text/plain": [
              "{0: 'T-shirt/top',\n",
              " 1: 'Trouser',\n",
              " 2: 'Pullover',\n",
              " 3: 'Dress',\n",
              " 4: 'Coat',\n",
              " 5: 'Sandal',\n",
              " 6: 'Shirt',\n",
              " 7: 'Sneaker',\n",
              " 8: 'Bag',\n",
              " 9: 'Ankle boot'}"
            ]
          },
          "metadata": {},
          "execution_count": 99
        }
      ]
    },
    {
      "cell_type": "code",
      "source": [],
      "metadata": {
        "id": "4hU0mB3OOvdz"
      },
      "execution_count": null,
      "outputs": []
    },
    {
      "cell_type": "code",
      "source": [
        "cm = confusion_matrix(y_test, y_pred, labels=[0,1,2,3,4,5,6,7,8,9])\n",
        "cm"
      ],
      "metadata": {
        "colab": {
          "base_uri": "https://localhost:8080/"
        },
        "id": "1fQK16ykIisz",
        "outputId": "6a7c692f-c73a-4959-8b1d-af04dec68ec4"
      },
      "execution_count": null,
      "outputs": [
        {
          "output_type": "execute_result",
          "data": {
            "text/plain": [
              "array([[745,   2,   9,  58,   9,   2, 156,   0,  18,   1],\n",
              "       [  1, 958,   3,  26,   6,   0,   5,   0,   1,   0],\n",
              "       [ 17,   5, 646,  12, 191,   1, 113,   0,  15,   0],\n",
              "       [ 22,   9,   6, 870,  35,   2,  50,   0,   6,   0],\n",
              "       [  0,   0,  49,  33, 819,   1,  92,   0,   6,   0],\n",
              "       [  0,   0,   0,   1,   0, 920,   0,  57,   1,  21],\n",
              "       [104,   1,  64,  40, 117,   0, 643,   0,  31,   0],\n",
              "       [  0,   0,   0,   0,   0,  30,   0, 948,   0,  22],\n",
              "       [  1,   1,   4,   9,   4,   3,  21,   7, 950,   0],\n",
              "       [  0,   0,   0,   0,   0,  12,   0,  65,   1, 922]])"
            ]
          },
          "metadata": {},
          "execution_count": 114
        }
      ]
    },
    {
      "cell_type": "code",
      "source": [
        "disp = ConfusionMatrixDisplay(cm, display_labels=list(label_encoder.values()))\n",
        "disp.plot(xticks_rotation='vertical', cmap=\"Greys\", colorbar=False)"
      ],
      "metadata": {
        "colab": {
          "base_uri": "https://localhost:8080/",
          "height": 528
        },
        "id": "ZNmjCgRCO4Ta",
        "outputId": "17ffb1ce-dee2-45bb-b9f5-942425d00dc5"
      },
      "execution_count": null,
      "outputs": [
        {
          "output_type": "execute_result",
          "data": {
            "text/plain": [
              "<sklearn.metrics._plot.confusion_matrix.ConfusionMatrixDisplay at 0x7fabff7a7ca0>"
            ]
          },
          "metadata": {},
          "execution_count": 137
        },
        {
          "output_type": "display_data",
          "data": {
            "text/plain": [
              "<Figure size 640x480 with 1 Axes>"
            ],
            "image/png": "[encoded data removed]"
          },
          "metadata": {}
        }
      ]
    },
    {
      "cell_type": "code",
      "source": [
        "print(\"Confusion Matrix\")\n",
        "plt.xlabel(\"Predicted Values\")\n",
        "plt.ylabel(\"Actual Values\")\n",
        "sns.heatmap(np.round(confusion_matrix(y_test, y_pred),0), annot=True, cmap='Greens', fmt='.0f', \n",
        "            xticklabels=list(label_encoder.values()), \n",
        "            yticklabels=list(label_encoder.values()))"
      ],
      "metadata": {
        "colab": {
          "base_uri": "https://localhost:8080/",
          "height": 526
        },
        "id": "jl0JmQaQHx--",
        "outputId": "5513a8ea-b276-4571-bfdf-3db0154f7697"
      },
      "execution_count": null,
      "outputs": [
        {
          "output_type": "stream",
          "name": "stdout",
          "text": [
            "Confusion Matrix\n"
          ]
        },
        {
          "output_type": "execute_result",
          "data": {
            "text/plain": [
              "<Axes: >"
            ]
          },
          "metadata": {},
          "execution_count": 130
        },
        {
          "output_type": "display_data",
          "data": {
            "text/plain": [
              "<Figure size 640x480 with 2 Axes>"
            ],
            "image/png": "[encoded data removed]"
          },
          "metadata": {}
        }
      ]
    },
    {
      "cell_type": "code",
      "source": [],
      "metadata": {
        "id": "d8xMSz3gKjMI"
      },
      "execution_count": null,
      "outputs": []
    }
  ]
}